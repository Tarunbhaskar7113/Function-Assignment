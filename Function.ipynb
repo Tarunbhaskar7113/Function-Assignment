{
  "nbformat": 4,
  "nbformat_minor": 0,
  "metadata": {
    "colab": {
      "provenance": []
    },
    "kernelspec": {
      "name": "python3",
      "display_name": "Python 3"
    },
    "language_info": {
      "name": "python"
    }
  },
  "cells": [
    {
      "cell_type": "code",
      "execution_count": null,
      "metadata": {
        "id": "O99YRUZv6pzF"
      },
      "outputs": [],
      "source": []
    },
    {
      "cell_type": "markdown",
      "source": [
        "1 -  What is the difference between a function and a method in Python?\n",
        "\n",
        "Function : A standalone block of code.\n",
        "Method: A function associated with an object.\n",
        "\n"
      ],
      "metadata": {
        "id": "olq6feD36qnq"
      }
    },
    {
      "cell_type": "markdown",
      "source": [
        " 2 - Explain the concept of function arguments and parameters in Python ?\n",
        "\n",
        " Ans - Parameters: Variables listed within the function definition. They act as placeholders for values you'll provide when calling the function.\n",
        "\n",
        "Arguments: The actual values you pass to a function when calling it. They fill in the placeholders defined by the parameters."
      ],
      "metadata": {
        "id": "DYX3GeOd7TBk"
      }
    },
    {
      "cell_type": "markdown",
      "source": [
        "3 - What are the different ways to define and call a function in Python?\n",
        "\n",
        "Ans - Defining a function: Use the def keyword followed by the function name, parentheses for parameters (if any), and a colon. The function body is indented.\n",
        "\n",
        "Calling a function: Use the function name followed by parentheses containing any arguments (if any)."
      ],
      "metadata": {
        "id": "0xf351Z37Ssg"
      }
    },
    {
      "cell_type": "markdown",
      "source": [
        "4 - What is the purpose of the `return` statement in a Python function?\n",
        "\n",
        "Ans - The return statement in a Python function sends a value back to the part of the program that called the function. This allows functions to produce results that can be used elsewhere in your code. If a function doesn't have a return statement, it implicitly returns None.\n"
      ],
      "metadata": {
        "id": "XN-t2XPL7Sl6"
      }
    },
    {
      "cell_type": "markdown",
      "source": [
        "5 -  What are iterators in Python and how do they differ from iterables?\n",
        "\n",
        "Ans - Iterables: Objects that can be looped over using a for loop. They have an __iter__ method that returns an iterator. Examples: lists, tuples, strings.\n",
        "\n",
        "Iterators: Objects that keep track of their current position while iterating. They have a __next__ method that returns the next item in the sequence and raise a StopIteration exception when there are no more items.\n",
        "\n",
        "Key difference: Iterables are objects you can iterate over, while iterators are the mechanisms that actually do the iterating. You obtain an iterator from an iterable."
      ],
      "metadata": {
        "id": "46YXviS67Sjj"
      }
    },
    {
      "cell_type": "markdown",
      "source": [
        "6 - Explain the concept of generators in Python and how they are defined ?\n",
        "\n",
        "Ans - Generators: Functions that use the yield keyword instead of return. They produce a sequence of values one at a time, pausing execution until the next value is requested. This is memory-efficient for large datasets."
      ],
      "metadata": {
        "id": "Md-t72F37SgV"
      }
    },
    {
      "cell_type": "markdown",
      "source": [
        "7. What are the advantages of using generators over regular functions?\n",
        "\n",
        "Ans - Advantages of generators:\n",
        "\n",
        "Memory Efficiency: Generators produce values one at a time, so they don't need to store the entire sequence in memory. This is beneficial for large datasets.\n",
        "\n",
        "Lazy Evaluation: Values are generated only when needed, which can improve performance.\n",
        "\n",
        "Readability: Generators can make code more concise and easier to understand for certain tasks, like generating sequences."
      ],
      "metadata": {
        "id": "dIboCroJ7Sdc"
      }
    },
    {
      "cell_type": "markdown",
      "source": [
        "8. What is a lambda function in Python and when is it typically used?\n",
        "\n",
        "Ans - Lambda function: A small, anonymous function defined using the lambda keyword. It can take any number of arguments but can only have one expression.\n",
        "\n",
        "Typical use: When you need a simple function for a short period and don't want to define a full function using def. Often used with functions like map, filter, and sort."
      ],
      "metadata": {
        "id": "RLzrNGDK7SVo"
      }
    },
    {
      "cell_type": "markdown",
      "source": [
        "9. Explain the purpose and usage of the `map()` function in Python.\n",
        "\n",
        "Ans - Purpose: The map() function applies a given function to each item of an iterable (list, tuple, etc.) and returns an iterator of the results.\n",
        "\n",
        "Usage : Essentially, map() helps you process and transform iterables efficiently."
      ],
      "metadata": {
        "id": "P5y66OFV7SSK"
      }
    },
    {
      "cell_type": "markdown",
      "source": [
        "10 - What is the difference between map(), reduce(), and filter() functions in Python?\n",
        "\n",
        "Ans - ap(): Applies a function to each item in an iterable and returns an iterator with the results. Think of it as transforming each element.\n",
        "\n",
        "filter(): Applies a function to each item in an iterable and returns an iterator with only the items for which the function returned True. Think of it as selectively including elements.\n",
        "\n",
        "reduce(): Applies a function cumulatively to the items of an iterable, reducing it to a single value. Think of it as aggregating elements. Note: reduce() needs to be imported from functools in Python 3+."
      ],
      "metadata": {
        "id": "EeHpG28h9aEy"
      }
    },
    {
      "cell_type": "code",
      "source": [
        "#1 - Write a Python function that takes a list of numbers as input and returns the sum of all even numbers in the list.\n",
        "\n",
        "def sum_even_numbers(numbers):\n",
        "    sum_even = 0\n",
        "    for number in numbers:\n",
        "        if number % 2 == 0:  # Check if the number is even\n",
        "            sum_even += number\n",
        "    return sum_even\n",
        "\n",
        "sum_even_numbers([1, 2, 3, 4, 5, 6])\n"
      ],
      "metadata": {
        "colab": {
          "base_uri": "https://localhost:8080/"
        },
        "id": "KpBtA4Dh-By1",
        "outputId": "4431c484-7f99-45b9-f8bb-2f335252c892"
      },
      "execution_count": 3,
      "outputs": [
        {
          "output_type": "execute_result",
          "data": {
            "text/plain": [
              "12"
            ]
          },
          "metadata": {},
          "execution_count": 3
        }
      ]
    },
    {
      "cell_type": "code",
      "source": [
        "#2- Create a Python function that accepts a string and returns the reverse of that string\n",
        "\n",
        "def reverse_string(text):\n",
        "    return text[::-1]\n",
        "\n",
        "\n",
        "string = \"hello\"\n",
        "reversed_string = reverse_string(string)\n",
        "print(reversed_string)"
      ],
      "metadata": {
        "colab": {
          "base_uri": "https://localhost:8080/"
        },
        "id": "MugQ-hTX_6o0",
        "outputId": "a89113b7-9c8a-4924-d526-6582a4bb58f3"
      },
      "execution_count": 18,
      "outputs": [
        {
          "output_type": "stream",
          "name": "stdout",
          "text": [
            "olleh\n"
          ]
        }
      ]
    },
    {
      "cell_type": "code",
      "source": [
        "#3-  Implement a Python function that takes a list of integers and returns a new list containing the squares of each number\n",
        "\n",
        "def square_numbers(numbers):\n",
        "    squared_numbers = [number ** 2 for number in numbers]\n",
        "    return squared_numbers\n",
        "\n",
        "square_numbers([1, 2, 3, 4, 5])"
      ],
      "metadata": {
        "colab": {
          "base_uri": "https://localhost:8080/"
        },
        "id": "ebi-pHA__68r",
        "outputId": "9336f159-b874-4833-c2b1-d3606d424c4a"
      },
      "execution_count": 20,
      "outputs": [
        {
          "output_type": "execute_result",
          "data": {
            "text/plain": [
              "[1, 4, 9, 16, 25]"
            ]
          },
          "metadata": {},
          "execution_count": 20
        }
      ]
    },
    {
      "cell_type": "code",
      "source": [
        "#4 -  Write a Python function that checks if a given number is prime or not from 1 to 200.\n",
        "\n",
        "def is_prime(n):\n",
        "    if n < 2:\n",
        "        return False\n",
        "    for i in range(2, int(n**0.5) + 1):\n",
        "        if n % i == 0:\n",
        "            return False\n",
        "    return True\n",
        "\n",
        "# For numbers from 1 to 200\n",
        "primes = [num for num in range(1, 201) if is_prime(num)]\n",
        "print(primes)"
      ],
      "metadata": {
        "colab": {
          "base_uri": "https://localhost:8080/"
        },
        "id": "shqGEy2L_7Cj",
        "outputId": "5ec3b9ab-f8d4-4c99-90e5-f8fce9cd26d4"
      },
      "execution_count": 21,
      "outputs": [
        {
          "output_type": "stream",
          "name": "stdout",
          "text": [
            "[2, 3, 5, 7, 11, 13, 17, 19, 23, 29, 31, 37, 41, 43, 47, 53, 59, 61, 67, 71, 73, 79, 83, 89, 97, 101, 103, 107, 109, 113, 127, 131, 137, 139, 149, 151, 157, 163, 167, 173, 179, 181, 191, 193, 197, 199]\n"
          ]
        }
      ]
    },
    {
      "cell_type": "code",
      "source": [
        "#5 - Create an iterator class in Python that generates the Fibonacci sequence up to a specified number of terms.\n",
        "\n",
        "class FibonacciIterator:\n",
        "    def __init__(self, terms):\n",
        "        self.terms = terms\n",
        "        self.a, self.b = 0, 1\n",
        "        self.count = 0\n",
        "\n",
        "    def __iter__(self):\n",
        "        return self\n",
        "\n",
        "    def __next__(self):\n",
        "        if self.count < self.terms:\n",
        "            result = self.a\n",
        "            self.a, self.b = self.b, self.a + self.b\n",
        "            self.count += 1\n",
        "            return result\n",
        "        else:\n",
        "            raise StopIteration\n",
        "\n",
        "# Example usage:\n",
        "fibonacci = FibonacciIterator(10)\n",
        "for num in fibonacci:\n",
        "    print(num)"
      ],
      "metadata": {
        "colab": {
          "base_uri": "https://localhost:8080/"
        },
        "id": "ptoJVeQQ_7Fj",
        "outputId": "e36e83a6-efe8-4472-ace1-291bbf7b39af"
      },
      "execution_count": 22,
      "outputs": [
        {
          "output_type": "stream",
          "name": "stdout",
          "text": [
            "0\n",
            "1\n",
            "1\n",
            "2\n",
            "3\n",
            "5\n",
            "8\n",
            "13\n",
            "21\n",
            "34\n"
          ]
        }
      ]
    },
    {
      "cell_type": "code",
      "source": [
        "#6 - Write a generator function in Python that yields the powers of 2 up to a given exponent.\n",
        "\n",
        "def powers_of_two(exponent):\n",
        "    for i in range(exponent + 1):\n",
        "        yield 2 ** i\n",
        "\n",
        "\n",
        "for power in powers_of_two(5):\n",
        "    print(power)"
      ],
      "metadata": {
        "colab": {
          "base_uri": "https://localhost:8080/"
        },
        "id": "U9Anbtz4_7IS",
        "outputId": "0fa6f044-2382-45b4-ebc7-702a52a01729"
      },
      "execution_count": 23,
      "outputs": [
        {
          "output_type": "stream",
          "name": "stdout",
          "text": [
            "1\n",
            "2\n",
            "4\n",
            "8\n",
            "16\n",
            "32\n"
          ]
        }
      ]
    },
    {
      "cell_type": "code",
      "source": [
        "#7 Implement a generator function that reads a file line by line and yields each line as a string.\n",
        "\n",
        "def powers_of_two(exponent):\n",
        "    for i in range(exponent + 1):\n",
        "        yield 2 ** i\n",
        "\n",
        "for power in powers_of_two(5):\n",
        "    print(power)"
      ],
      "metadata": {
        "colab": {
          "base_uri": "https://localhost:8080/"
        },
        "id": "z6FbCz5K_7LA",
        "outputId": "80a2f83a-635f-4708-8970-157d8c5dad4d"
      },
      "execution_count": 24,
      "outputs": [
        {
          "output_type": "stream",
          "name": "stdout",
          "text": [
            "1\n",
            "2\n",
            "4\n",
            "8\n",
            "16\n",
            "32\n"
          ]
        }
      ]
    },
    {
      "cell_type": "code",
      "source": [
        "#8- Use a lambda function in Python to sort a list of tuples based on the second element of each tuple.\n",
        "\n",
        "tuples = [(1, 5), (3, 2), (4, 8), (2, 7)]\n",
        "sorted_tuples = sorted(tuples, key=lambda x: x[1])\n",
        "print(sorted_tuples)"
      ],
      "metadata": {
        "colab": {
          "base_uri": "https://localhost:8080/"
        },
        "id": "4n1h_5d6_7N5",
        "outputId": "d99d3eb0-08a5-442e-c863-e2f4e622c8bd"
      },
      "execution_count": 25,
      "outputs": [
        {
          "output_type": "stream",
          "name": "stdout",
          "text": [
            "[(3, 2), (1, 5), (2, 7), (4, 8)]\n"
          ]
        }
      ]
    },
    {
      "cell_type": "code",
      "source": [
        "#9- Write a Python program that uses `map()` to convert a list of temperatures from Celsius to Fahrenheit.\n",
        "\n",
        "def celsius_to_fahrenheit(celsius):\n",
        "    return (celsius * 9/5) + 32\n",
        "\n",
        "temperatures_celsius = [0, 25, 30, 100]\n",
        "temperatures_fahrenheit = list(map(celsius_to_fahrenheit, temperatures_celsius))\n",
        "print(temperatures_fahrenheit)"
      ],
      "metadata": {
        "colab": {
          "base_uri": "https://localhost:8080/"
        },
        "id": "GEANF0we_7Qs",
        "outputId": "948b2e7e-b245-4c92-cd03-92efc1bcf65b"
      },
      "execution_count": 26,
      "outputs": [
        {
          "output_type": "stream",
          "name": "stdout",
          "text": [
            "[32.0, 77.0, 86.0, 212.0]\n"
          ]
        }
      ]
    },
    {
      "cell_type": "code",
      "source": [
        "#10- Create a Python program that uses `filter()` to remove all the vowels from a given string.\n",
        "\n",
        "def remove_vowels(s):\n",
        "    return ''.join(filter(lambda char: char.lower() not in 'aeiou', s))\n",
        "\n",
        "\n",
        "input_string = \"Hello, World!\"\n",
        "result = remove_vowels(input_string)\n",
        "print(result)"
      ],
      "metadata": {
        "colab": {
          "base_uri": "https://localhost:8080/"
        },
        "id": "NVELKS4a_7Tj",
        "outputId": "ac65a460-e141-4625-b6bb-2203c01c08d7"
      },
      "execution_count": 27,
      "outputs": [
        {
          "output_type": "stream",
          "name": "stdout",
          "text": [
            "Hll, Wrld!\n"
          ]
        }
      ]
    },
    {
      "cell_type": "code",
      "source": [],
      "metadata": {
        "id": "bvBDa0j8_7Wa"
      },
      "execution_count": null,
      "outputs": []
    },
    {
      "cell_type": "code",
      "source": [],
      "metadata": {
        "id": "r1HviMJz_7ZO"
      },
      "execution_count": null,
      "outputs": []
    },
    {
      "cell_type": "code",
      "source": [],
      "metadata": {
        "id": "B7EEBREz_7ct"
      },
      "execution_count": null,
      "outputs": []
    }
  ]
}